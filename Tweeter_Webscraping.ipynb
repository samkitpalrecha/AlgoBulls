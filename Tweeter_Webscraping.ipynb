{
  "cells": [
    {
      "cell_type": "markdown",
      "source": [
        "# install necessary libraries (i am using ntscraper library for the task)"
      ],
      "metadata": {
        "id": "0FDAfa-r_oAA"
      },
      "id": "0FDAfa-r_oAA"
    },
    {
      "cell_type": "code",
      "source": [
        "pip install ntscraper"
      ],
      "metadata": {
        "colab": {
          "base_uri": "https://localhost:8080/"
        },
        "id": "rD81M1Od46Zx",
        "outputId": "e5a820e9-5cfb-4132-857c-17c76bf00804"
      },
      "id": "rD81M1Od46Zx",
      "execution_count": 2,
      "outputs": [
        {
          "output_type": "stream",
          "name": "stdout",
          "text": [
            "Collecting ntscraper\n",
            "  Downloading ntscraper-0.3.12-py3-none-any.whl (11 kB)\n",
            "Requirement already satisfied: requests in /usr/local/lib/python3.10/dist-packages (from ntscraper) (2.31.0)\n",
            "Requirement already satisfied: beautifulsoup4 in /usr/local/lib/python3.10/dist-packages (from ntscraper) (4.12.3)\n",
            "Requirement already satisfied: lxml in /usr/local/lib/python3.10/dist-packages (from ntscraper) (4.9.4)\n",
            "Requirement already satisfied: soupsieve>1.2 in /usr/local/lib/python3.10/dist-packages (from beautifulsoup4->ntscraper) (2.5)\n",
            "Requirement already satisfied: charset-normalizer<4,>=2 in /usr/local/lib/python3.10/dist-packages (from requests->ntscraper) (3.3.2)\n",
            "Requirement already satisfied: idna<4,>=2.5 in /usr/local/lib/python3.10/dist-packages (from requests->ntscraper) (3.6)\n",
            "Requirement already satisfied: urllib3<3,>=1.21.1 in /usr/local/lib/python3.10/dist-packages (from requests->ntscraper) (2.0.7)\n",
            "Requirement already satisfied: certifi>=2017.4.17 in /usr/local/lib/python3.10/dist-packages (from requests->ntscraper) (2024.2.2)\n",
            "Installing collected packages: ntscraper\n",
            "Successfully installed ntscraper-0.3.12\n"
          ]
        }
      ]
    },
    {
      "cell_type": "markdown",
      "source": [
        "# import all the necessary libraries\n",
        "\n",
        "\n"
      ],
      "metadata": {
        "id": "HvEh5VHu_whK"
      },
      "id": "HvEh5VHu_whK"
    },
    {
      "cell_type": "code",
      "execution_count": 3,
      "id": "852fb34d-34b2-4443-8b81-2317b2187437",
      "metadata": {
        "id": "852fb34d-34b2-4443-8b81-2317b2187437"
      },
      "outputs": [],
      "source": [
        "from ntscraper import Nitter\n",
        "import pandas as pd"
      ]
    },
    {
      "cell_type": "markdown",
      "source": [
        "# define/iniitialize the web scraper"
      ],
      "metadata": {
        "id": "ZTW6C_bZ_v0h"
      },
      "id": "ZTW6C_bZ_v0h"
    },
    {
      "cell_type": "code",
      "execution_count": 216,
      "id": "222ad4db-1475-4fd5-89f0-e88c815d3e70",
      "metadata": {
        "id": "222ad4db-1475-4fd5-89f0-e88c815d3e70",
        "outputId": "314836b2-3f82-4eb2-d800-b1efbd517fdb",
        "colab": {
          "base_uri": "https://localhost:8080/"
        }
      },
      "outputs": [
        {
          "output_type": "stream",
          "name": "stderr",
          "text": [
            "Testing instances: 100%|██████████| 77/77 [01:58<00:00,  1.55s/it]\n"
          ]
        }
      ],
      "source": [
        "scraper = Nitter(0)"
      ]
    },
    {
      "cell_type": "markdown",
      "source": [
        "# scrape the tweets with a filter of '#coding'"
      ],
      "metadata": {
        "id": "Oha-GHvr_7Q4"
      },
      "id": "Oha-GHvr_7Q4"
    },
    {
      "cell_type": "code",
      "execution_count": 278,
      "id": "62452a25-64b6-42c9-b1b9-36674fb29a26",
      "metadata": {
        "id": "62452a25-64b6-42c9-b1b9-36674fb29a26",
        "colab": {
          "base_uri": "https://localhost:8080/"
        },
        "outputId": "c8366d4b-2ae6-4ddb-f9d9-c11f41568c83"
      },
      "outputs": [
        {
          "output_type": "stream",
          "name": "stderr",
          "text": [
            "WARNING:root:Fetching error: Instance has been rate limited.Use another instance or try again later.\n"
          ]
        }
      ],
      "source": [
        "tweets = scraper.get_tweets('coding', mode = 'hashtag', number=1000)"
      ]
    },
    {
      "cell_type": "markdown",
      "source": [
        "# store the all the necesary attributes of the tweets in a list"
      ],
      "metadata": {
        "id": "jOb0cKU7ATq9"
      },
      "id": "jOb0cKU7ATq9"
    },
    {
      "cell_type": "code",
      "execution_count": 279,
      "id": "78abb7aa-1dee-4891-ae92-5857dcb0ce31",
      "metadata": {
        "id": "78abb7aa-1dee-4891-ae92-5857dcb0ce31"
      },
      "outputs": [],
      "source": [
        "final_tweets = []\n",
        "\n",
        "for tweet in tweets['tweets']:\n",
        "    data = [ tweet['text'],\n",
        "             tweet['stats']['likes'],\n",
        "             tweet['user']['username']\n",
        "           ]\n",
        "    final_tweets.append(data)"
      ]
    },
    {
      "cell_type": "markdown",
      "source": [
        "# define a pandas dataframe and store all the tweets in it"
      ],
      "metadata": {
        "id": "fBr_e9DzAsTG"
      },
      "id": "fBr_e9DzAsTG"
    },
    {
      "cell_type": "code",
      "source": [
        "DF = pd.DataFrame(final_tweets, columns = ['Tweet_content','Number_of_likes','Twitter_handle_of_the_user'])"
      ],
      "metadata": {
        "id": "ix9F9kjDA1fd"
      },
      "id": "ix9F9kjDA1fd",
      "execution_count": 280,
      "outputs": []
    },
    {
      "cell_type": "markdown",
      "source": [
        "a look of the dataframe with the tweet content, number of likes, and twitter handle of the user"
      ],
      "metadata": {
        "id": "A7s_ZYHVA3Yo"
      },
      "id": "A7s_ZYHVA3Yo"
    },
    {
      "cell_type": "code",
      "source": [
        "DF"
      ],
      "metadata": {
        "colab": {
          "base_uri": "https://localhost:8080/",
          "height": 1215
        },
        "id": "UfPXOFWQA9jS",
        "outputId": "9676ce02-2427-4532-9832-8ee65f70c3b5"
      },
      "id": "UfPXOFWQA9jS",
      "execution_count": 308,
      "outputs": [
        {
          "output_type": "execute_result",
          "data": {
            "text/plain": [
              "                                         Tweet_content  Number_of_likes  \\\n",
              "0    How to create Dark Theme in React | Toggle The...               26   \n",
              "1    Best Books on AI. #BigData #Analytics #DataSci...               10   \n",
              "2    Did you??  #programming #computer #linustech #...                2   \n",
              "3    #100DaysOfCode Day 3: Sorting it out!  Tackled...                0   \n",
              "4    🌃 Working late? Our 24/7 development team at #...                0   \n",
              "..                                                 ...              ...   \n",
              "995  🛟Wormlike - Limbless Robots for Search and Res...                4   \n",
              "996  Let's review objects and then use a few fun AP...             2757   \n",
              "997  Tutorial hell is real!  Don't just watch, CODE...               10   \n",
              "998     #programming #memes #funny #funnymemes #coding                0   \n",
              "999  🐍 From quick fixes to major projects, our deve...                0   \n",
              "\n",
              "    Twitter_handle_of_the_user  \n",
              "0                   @reactdevz  \n",
              "1                 @gp_pulipaka  \n",
              "2                     @AdjDami  \n",
              "3                  @Shub_Surve  \n",
              "4                 @techguys2go  \n",
              "..                         ...  \n",
              "995             @Analytics_699  \n",
              "996                  @leonnoel  \n",
              "997                @kambojrish  \n",
              "998                @codinasion  \n",
              "999               @techguys2go  \n",
              "\n",
              "[1000 rows x 3 columns]"
            ],
            "text/html": [
              "\n",
              "  <div id=\"df-32bc52c0-3e21-4f2d-8726-7a7ba5c37c0b\" class=\"colab-df-container\">\n",
              "    <div>\n",
              "<style scoped>\n",
              "    .dataframe tbody tr th:only-of-type {\n",
              "        vertical-align: middle;\n",
              "    }\n",
              "\n",
              "    .dataframe tbody tr th {\n",
              "        vertical-align: top;\n",
              "    }\n",
              "\n",
              "    .dataframe thead th {\n",
              "        text-align: right;\n",
              "    }\n",
              "</style>\n",
              "<table border=\"1\" class=\"dataframe\">\n",
              "  <thead>\n",
              "    <tr style=\"text-align: right;\">\n",
              "      <th></th>\n",
              "      <th>Tweet_content</th>\n",
              "      <th>Number_of_likes</th>\n",
              "      <th>Twitter_handle_of_the_user</th>\n",
              "    </tr>\n",
              "  </thead>\n",
              "  <tbody>\n",
              "    <tr>\n",
              "      <th>0</th>\n",
              "      <td>How to create Dark Theme in React | Toggle The...</td>\n",
              "      <td>26</td>\n",
              "      <td>@reactdevz</td>\n",
              "    </tr>\n",
              "    <tr>\n",
              "      <th>1</th>\n",
              "      <td>Best Books on AI. #BigData #Analytics #DataSci...</td>\n",
              "      <td>10</td>\n",
              "      <td>@gp_pulipaka</td>\n",
              "    </tr>\n",
              "    <tr>\n",
              "      <th>2</th>\n",
              "      <td>Did you??  #programming #computer #linustech #...</td>\n",
              "      <td>2</td>\n",
              "      <td>@AdjDami</td>\n",
              "    </tr>\n",
              "    <tr>\n",
              "      <th>3</th>\n",
              "      <td>#100DaysOfCode Day 3: Sorting it out!  Tackled...</td>\n",
              "      <td>0</td>\n",
              "      <td>@Shub_Surve</td>\n",
              "    </tr>\n",
              "    <tr>\n",
              "      <th>4</th>\n",
              "      <td>🌃 Working late? Our 24/7 development team at #...</td>\n",
              "      <td>0</td>\n",
              "      <td>@techguys2go</td>\n",
              "    </tr>\n",
              "    <tr>\n",
              "      <th>...</th>\n",
              "      <td>...</td>\n",
              "      <td>...</td>\n",
              "      <td>...</td>\n",
              "    </tr>\n",
              "    <tr>\n",
              "      <th>995</th>\n",
              "      <td>🛟Wormlike - Limbless Robots for Search and Res...</td>\n",
              "      <td>4</td>\n",
              "      <td>@Analytics_699</td>\n",
              "    </tr>\n",
              "    <tr>\n",
              "      <th>996</th>\n",
              "      <td>Let's review objects and then use a few fun AP...</td>\n",
              "      <td>2757</td>\n",
              "      <td>@leonnoel</td>\n",
              "    </tr>\n",
              "    <tr>\n",
              "      <th>997</th>\n",
              "      <td>Tutorial hell is real!  Don't just watch, CODE...</td>\n",
              "      <td>10</td>\n",
              "      <td>@kambojrish</td>\n",
              "    </tr>\n",
              "    <tr>\n",
              "      <th>998</th>\n",
              "      <td>#programming #memes #funny #funnymemes #coding</td>\n",
              "      <td>0</td>\n",
              "      <td>@codinasion</td>\n",
              "    </tr>\n",
              "    <tr>\n",
              "      <th>999</th>\n",
              "      <td>🐍 From quick fixes to major projects, our deve...</td>\n",
              "      <td>0</td>\n",
              "      <td>@techguys2go</td>\n",
              "    </tr>\n",
              "  </tbody>\n",
              "</table>\n",
              "<p>1000 rows × 3 columns</p>\n",
              "</div>\n",
              "    <div class=\"colab-df-buttons\">\n",
              "\n",
              "  <div class=\"colab-df-container\">\n",
              "    <button class=\"colab-df-convert\" onclick=\"convertToInteractive('df-32bc52c0-3e21-4f2d-8726-7a7ba5c37c0b')\"\n",
              "            title=\"Convert this dataframe to an interactive table.\"\n",
              "            style=\"display:none;\">\n",
              "\n",
              "  <svg xmlns=\"http://www.w3.org/2000/svg\" height=\"24px\" viewBox=\"0 -960 960 960\">\n",
              "    <path d=\"M120-120v-720h720v720H120Zm60-500h600v-160H180v160Zm220 220h160v-160H400v160Zm0 220h160v-160H400v160ZM180-400h160v-160H180v160Zm440 0h160v-160H620v160ZM180-180h160v-160H180v160Zm440 0h160v-160H620v160Z\"/>\n",
              "  </svg>\n",
              "    </button>\n",
              "\n",
              "  <style>\n",
              "    .colab-df-container {\n",
              "      display:flex;\n",
              "      gap: 12px;\n",
              "    }\n",
              "\n",
              "    .colab-df-convert {\n",
              "      background-color: #E8F0FE;\n",
              "      border: none;\n",
              "      border-radius: 50%;\n",
              "      cursor: pointer;\n",
              "      display: none;\n",
              "      fill: #1967D2;\n",
              "      height: 32px;\n",
              "      padding: 0 0 0 0;\n",
              "      width: 32px;\n",
              "    }\n",
              "\n",
              "    .colab-df-convert:hover {\n",
              "      background-color: #E2EBFA;\n",
              "      box-shadow: 0px 1px 2px rgba(60, 64, 67, 0.3), 0px 1px 3px 1px rgba(60, 64, 67, 0.15);\n",
              "      fill: #174EA6;\n",
              "    }\n",
              "\n",
              "    .colab-df-buttons div {\n",
              "      margin-bottom: 4px;\n",
              "    }\n",
              "\n",
              "    [theme=dark] .colab-df-convert {\n",
              "      background-color: #3B4455;\n",
              "      fill: #D2E3FC;\n",
              "    }\n",
              "\n",
              "    [theme=dark] .colab-df-convert:hover {\n",
              "      background-color: #434B5C;\n",
              "      box-shadow: 0px 1px 3px 1px rgba(0, 0, 0, 0.15);\n",
              "      filter: drop-shadow(0px 1px 2px rgba(0, 0, 0, 0.3));\n",
              "      fill: #FFFFFF;\n",
              "    }\n",
              "  </style>\n",
              "\n",
              "    <script>\n",
              "      const buttonEl =\n",
              "        document.querySelector('#df-32bc52c0-3e21-4f2d-8726-7a7ba5c37c0b button.colab-df-convert');\n",
              "      buttonEl.style.display =\n",
              "        google.colab.kernel.accessAllowed ? 'block' : 'none';\n",
              "\n",
              "      async function convertToInteractive(key) {\n",
              "        const element = document.querySelector('#df-32bc52c0-3e21-4f2d-8726-7a7ba5c37c0b');\n",
              "        const dataTable =\n",
              "          await google.colab.kernel.invokeFunction('convertToInteractive',\n",
              "                                                    [key], {});\n",
              "        if (!dataTable) return;\n",
              "\n",
              "        const docLinkHtml = 'Like what you see? Visit the ' +\n",
              "          '<a target=\"_blank\" href=https://colab.research.google.com/notebooks/data_table.ipynb>data table notebook</a>'\n",
              "          + ' to learn more about interactive tables.';\n",
              "        element.innerHTML = '';\n",
              "        dataTable['output_type'] = 'display_data';\n",
              "        await google.colab.output.renderOutput(dataTable, element);\n",
              "        const docLink = document.createElement('div');\n",
              "        docLink.innerHTML = docLinkHtml;\n",
              "        element.appendChild(docLink);\n",
              "      }\n",
              "    </script>\n",
              "  </div>\n",
              "\n",
              "\n",
              "<div id=\"df-5ed56392-7843-4a52-8266-d3f761bfb580\">\n",
              "  <button class=\"colab-df-quickchart\" onclick=\"quickchart('df-5ed56392-7843-4a52-8266-d3f761bfb580')\"\n",
              "            title=\"Suggest charts\"\n",
              "            style=\"display:none;\">\n",
              "\n",
              "<svg xmlns=\"http://www.w3.org/2000/svg\" height=\"24px\"viewBox=\"0 0 24 24\"\n",
              "     width=\"24px\">\n",
              "    <g>\n",
              "        <path d=\"M19 3H5c-1.1 0-2 .9-2 2v14c0 1.1.9 2 2 2h14c1.1 0 2-.9 2-2V5c0-1.1-.9-2-2-2zM9 17H7v-7h2v7zm4 0h-2V7h2v10zm4 0h-2v-4h2v4z\"/>\n",
              "    </g>\n",
              "</svg>\n",
              "  </button>\n",
              "\n",
              "<style>\n",
              "  .colab-df-quickchart {\n",
              "      --bg-color: #E8F0FE;\n",
              "      --fill-color: #1967D2;\n",
              "      --hover-bg-color: #E2EBFA;\n",
              "      --hover-fill-color: #174EA6;\n",
              "      --disabled-fill-color: #AAA;\n",
              "      --disabled-bg-color: #DDD;\n",
              "  }\n",
              "\n",
              "  [theme=dark] .colab-df-quickchart {\n",
              "      --bg-color: #3B4455;\n",
              "      --fill-color: #D2E3FC;\n",
              "      --hover-bg-color: #434B5C;\n",
              "      --hover-fill-color: #FFFFFF;\n",
              "      --disabled-bg-color: #3B4455;\n",
              "      --disabled-fill-color: #666;\n",
              "  }\n",
              "\n",
              "  .colab-df-quickchart {\n",
              "    background-color: var(--bg-color);\n",
              "    border: none;\n",
              "    border-radius: 50%;\n",
              "    cursor: pointer;\n",
              "    display: none;\n",
              "    fill: var(--fill-color);\n",
              "    height: 32px;\n",
              "    padding: 0;\n",
              "    width: 32px;\n",
              "  }\n",
              "\n",
              "  .colab-df-quickchart:hover {\n",
              "    background-color: var(--hover-bg-color);\n",
              "    box-shadow: 0 1px 2px rgba(60, 64, 67, 0.3), 0 1px 3px 1px rgba(60, 64, 67, 0.15);\n",
              "    fill: var(--button-hover-fill-color);\n",
              "  }\n",
              "\n",
              "  .colab-df-quickchart-complete:disabled,\n",
              "  .colab-df-quickchart-complete:disabled:hover {\n",
              "    background-color: var(--disabled-bg-color);\n",
              "    fill: var(--disabled-fill-color);\n",
              "    box-shadow: none;\n",
              "  }\n",
              "\n",
              "  .colab-df-spinner {\n",
              "    border: 2px solid var(--fill-color);\n",
              "    border-color: transparent;\n",
              "    border-bottom-color: var(--fill-color);\n",
              "    animation:\n",
              "      spin 1s steps(1) infinite;\n",
              "  }\n",
              "\n",
              "  @keyframes spin {\n",
              "    0% {\n",
              "      border-color: transparent;\n",
              "      border-bottom-color: var(--fill-color);\n",
              "      border-left-color: var(--fill-color);\n",
              "    }\n",
              "    20% {\n",
              "      border-color: transparent;\n",
              "      border-left-color: var(--fill-color);\n",
              "      border-top-color: var(--fill-color);\n",
              "    }\n",
              "    30% {\n",
              "      border-color: transparent;\n",
              "      border-left-color: var(--fill-color);\n",
              "      border-top-color: var(--fill-color);\n",
              "      border-right-color: var(--fill-color);\n",
              "    }\n",
              "    40% {\n",
              "      border-color: transparent;\n",
              "      border-right-color: var(--fill-color);\n",
              "      border-top-color: var(--fill-color);\n",
              "    }\n",
              "    60% {\n",
              "      border-color: transparent;\n",
              "      border-right-color: var(--fill-color);\n",
              "    }\n",
              "    80% {\n",
              "      border-color: transparent;\n",
              "      border-right-color: var(--fill-color);\n",
              "      border-bottom-color: var(--fill-color);\n",
              "    }\n",
              "    90% {\n",
              "      border-color: transparent;\n",
              "      border-bottom-color: var(--fill-color);\n",
              "    }\n",
              "  }\n",
              "</style>\n",
              "\n",
              "  <script>\n",
              "    async function quickchart(key) {\n",
              "      const quickchartButtonEl =\n",
              "        document.querySelector('#' + key + ' button');\n",
              "      quickchartButtonEl.disabled = true;  // To prevent multiple clicks.\n",
              "      quickchartButtonEl.classList.add('colab-df-spinner');\n",
              "      try {\n",
              "        const charts = await google.colab.kernel.invokeFunction(\n",
              "            'suggestCharts', [key], {});\n",
              "      } catch (error) {\n",
              "        console.error('Error during call to suggestCharts:', error);\n",
              "      }\n",
              "      quickchartButtonEl.classList.remove('colab-df-spinner');\n",
              "      quickchartButtonEl.classList.add('colab-df-quickchart-complete');\n",
              "    }\n",
              "    (() => {\n",
              "      let quickchartButtonEl =\n",
              "        document.querySelector('#df-5ed56392-7843-4a52-8266-d3f761bfb580 button');\n",
              "      quickchartButtonEl.style.display =\n",
              "        google.colab.kernel.accessAllowed ? 'block' : 'none';\n",
              "    })();\n",
              "  </script>\n",
              "</div>\n",
              "\n",
              "  <div id=\"id_7050072b-b712-45d9-9cd6-6729bdd43cfd\">\n",
              "    <style>\n",
              "      .colab-df-generate {\n",
              "        background-color: #E8F0FE;\n",
              "        border: none;\n",
              "        border-radius: 50%;\n",
              "        cursor: pointer;\n",
              "        display: none;\n",
              "        fill: #1967D2;\n",
              "        height: 32px;\n",
              "        padding: 0 0 0 0;\n",
              "        width: 32px;\n",
              "      }\n",
              "\n",
              "      .colab-df-generate:hover {\n",
              "        background-color: #E2EBFA;\n",
              "        box-shadow: 0px 1px 2px rgba(60, 64, 67, 0.3), 0px 1px 3px 1px rgba(60, 64, 67, 0.15);\n",
              "        fill: #174EA6;\n",
              "      }\n",
              "\n",
              "      [theme=dark] .colab-df-generate {\n",
              "        background-color: #3B4455;\n",
              "        fill: #D2E3FC;\n",
              "      }\n",
              "\n",
              "      [theme=dark] .colab-df-generate:hover {\n",
              "        background-color: #434B5C;\n",
              "        box-shadow: 0px 1px 3px 1px rgba(0, 0, 0, 0.15);\n",
              "        filter: drop-shadow(0px 1px 2px rgba(0, 0, 0, 0.3));\n",
              "        fill: #FFFFFF;\n",
              "      }\n",
              "    </style>\n",
              "    <button class=\"colab-df-generate\" onclick=\"generateWithVariable('DF')\"\n",
              "            title=\"Generate code using this dataframe.\"\n",
              "            style=\"display:none;\">\n",
              "\n",
              "  <svg xmlns=\"http://www.w3.org/2000/svg\" height=\"24px\"viewBox=\"0 0 24 24\"\n",
              "       width=\"24px\">\n",
              "    <path d=\"M7,19H8.4L18.45,9,17,7.55,7,17.6ZM5,21V16.75L18.45,3.32a2,2,0,0,1,2.83,0l1.4,1.43a1.91,1.91,0,0,1,.58,1.4,1.91,1.91,0,0,1-.58,1.4L9.25,21ZM18.45,9,17,7.55Zm-12,3A5.31,5.31,0,0,0,4.9,8.1,5.31,5.31,0,0,0,1,6.5,5.31,5.31,0,0,0,4.9,4.9,5.31,5.31,0,0,0,6.5,1,5.31,5.31,0,0,0,8.1,4.9,5.31,5.31,0,0,0,12,6.5,5.46,5.46,0,0,0,6.5,12Z\"/>\n",
              "  </svg>\n",
              "    </button>\n",
              "    <script>\n",
              "      (() => {\n",
              "      const buttonEl =\n",
              "        document.querySelector('#id_7050072b-b712-45d9-9cd6-6729bdd43cfd button.colab-df-generate');\n",
              "      buttonEl.style.display =\n",
              "        google.colab.kernel.accessAllowed ? 'block' : 'none';\n",
              "\n",
              "      buttonEl.onclick = () => {\n",
              "        google.colab.notebook.generateWithVariable('DF');\n",
              "      }\n",
              "      })();\n",
              "    </script>\n",
              "  </div>\n",
              "\n",
              "    </div>\n",
              "  </div>\n"
            ],
            "application/vnd.google.colaboratory.intrinsic+json": {
              "type": "dataframe",
              "variable_name": "DF",
              "summary": "{\n  \"name\": \"DF\",\n  \"rows\": 1000,\n  \"fields\": [\n    {\n      \"column\": \"Tweet_content\",\n      \"properties\": {\n        \"dtype\": \"category\",\n        \"samples\": [\n          \"For Hacking, Recovery, Tracking, missing phone or finding someone\\u2019s location Dm now! #MachineLearning #Jupyter #SQL #DataScience #Cybersecurity #BigData #Analytics #Python #TensorFlow #JavaScript #MISPL #DataScientist #Linux #Programming #Coding #100DaysofCode #Data #Flutter\",\n          \"Machine Learning Engineering: A Perspective. #BigData #Analytics #DataScience #AI #MachineLearning #IoT #IIoT #Python #RStats #TensorFlow #Java #JavaScript #ReactJS #CloudComputing #Serverless #DataScientist #Linux #Programming #Coding #100DaysofCode https://geni.us/M-L-Engineering\",\n          \"We're at your service for Any Account Recovery and Hacking now #snapchatdown #DataScience #DataScientists #CodeNewbies #Tech #deeplearning #Python #Coding #javascript #rstats #100DaysOfCode #programming #Linux #loT #lloT #BigData #gmaildown #SNAPCHATLEAKED #ROBLOX #Discord\"\n        ],\n        \"num_unique_values\": 297,\n        \"semantic_type\": \"\",\n        \"description\": \"\"\n      }\n    },\n    {\n      \"column\": \"Number_of_likes\",\n      \"properties\": {\n        \"dtype\": \"number\",\n        \"std\": 134,\n        \"min\": 0,\n        \"max\": 2757,\n        \"samples\": [\n          472,\n          534,\n          1\n        ],\n        \"num_unique_values\": 68,\n        \"semantic_type\": \"\",\n        \"description\": \"\"\n      }\n    },\n    {\n      \"column\": \"Twitter_handle_of_the_user\",\n      \"properties\": {\n        \"dtype\": \"category\",\n        \"samples\": [\n          \"@KGcodes\",\n          \"@eForensics_Mag\",\n          \"@ProficientAde\"\n        ],\n        \"num_unique_values\": 179,\n        \"semantic_type\": \"\",\n        \"description\": \"\"\n      }\n    }\n  ]\n}"
            }
          },
          "metadata": {},
          "execution_count": 308
        }
      ]
    },
    {
      "cell_type": "markdown",
      "source": [
        "# save the dataframe into csv format and download it"
      ],
      "metadata": {
        "id": "zuear7jqBHjp"
      },
      "id": "zuear7jqBHjp"
    },
    {
      "cell_type": "code",
      "source": [
        "DF.to_csv('data.csv', index=False)\n",
        "from google.colab import files\n",
        "files.download('data.csv')"
      ],
      "metadata": {
        "colab": {
          "base_uri": "https://localhost:8080/",
          "height": 17
        },
        "id": "7SUQ8Zmb_LVS",
        "outputId": "9b71f525-9522-4690-fab4-5f2707f632f7"
      },
      "id": "7SUQ8Zmb_LVS",
      "execution_count": 309,
      "outputs": [
        {
          "output_type": "display_data",
          "data": {
            "text/plain": [
              "<IPython.core.display.Javascript object>"
            ],
            "application/javascript": [
              "\n",
              "    async function download(id, filename, size) {\n",
              "      if (!google.colab.kernel.accessAllowed) {\n",
              "        return;\n",
              "      }\n",
              "      const div = document.createElement('div');\n",
              "      const label = document.createElement('label');\n",
              "      label.textContent = `Downloading \"${filename}\": `;\n",
              "      div.appendChild(label);\n",
              "      const progress = document.createElement('progress');\n",
              "      progress.max = size;\n",
              "      div.appendChild(progress);\n",
              "      document.body.appendChild(div);\n",
              "\n",
              "      const buffers = [];\n",
              "      let downloaded = 0;\n",
              "\n",
              "      const channel = await google.colab.kernel.comms.open(id);\n",
              "      // Send a message to notify the kernel that we're ready.\n",
              "      channel.send({})\n",
              "\n",
              "      for await (const message of channel.messages) {\n",
              "        // Send a message to notify the kernel that we're ready.\n",
              "        channel.send({})\n",
              "        if (message.buffers) {\n",
              "          for (const buffer of message.buffers) {\n",
              "            buffers.push(buffer);\n",
              "            downloaded += buffer.byteLength;\n",
              "            progress.value = downloaded;\n",
              "          }\n",
              "        }\n",
              "      }\n",
              "      const blob = new Blob(buffers, {type: 'application/binary'});\n",
              "      const a = document.createElement('a');\n",
              "      a.href = window.URL.createObjectURL(blob);\n",
              "      a.download = filename;\n",
              "      div.appendChild(a);\n",
              "      a.click();\n",
              "      div.remove();\n",
              "    }\n",
              "  "
            ]
          },
          "metadata": {}
        },
        {
          "output_type": "display_data",
          "data": {
            "text/plain": [
              "<IPython.core.display.Javascript object>"
            ],
            "application/javascript": [
              "download(\"download_159c4e23-5492-4aac-9e68-b241fdbfa168\", \"data.csv\", 251327)"
            ]
          },
          "metadata": {}
        }
      ]
    },
    {
      "cell_type": "code",
      "source": [
        "len(DF)"
      ],
      "metadata": {
        "colab": {
          "base_uri": "https://localhost:8080/"
        },
        "id": "-0u1E4tBBEoH",
        "outputId": "c7e6c24f-ff8a-4c20-d0fc-bd8f6de8e2db"
      },
      "id": "-0u1E4tBBEoH",
      "execution_count": 310,
      "outputs": [
        {
          "output_type": "execute_result",
          "data": {
            "text/plain": [
              "1000"
            ]
          },
          "metadata": {},
          "execution_count": 310
        }
      ]
    }
  ],
  "metadata": {
    "kernelspec": {
      "display_name": "Python 3 (ipykernel)",
      "language": "python",
      "name": "python3"
    },
    "language_info": {
      "codemirror_mode": {
        "name": "ipython",
        "version": 3
      },
      "file_extension": ".py",
      "mimetype": "text/x-python",
      "name": "python",
      "nbconvert_exporter": "python",
      "pygments_lexer": "ipython3",
      "version": "3.11.6"
    },
    "colab": {
      "provenance": []
    }
  },
  "nbformat": 4,
  "nbformat_minor": 5
}